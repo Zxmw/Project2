{
 "cells": [
  {
   "cell_type": "code",
   "execution_count": 2,
   "metadata": {},
   "outputs": [],
   "source": [
    "import random\n",
    "from functools import partial\n",
    "\n",
    "import matplotlib\n",
    "import matplotlib.pyplot as plt\n",
    "import numpy as np\n",
    "import torch\n",
    "import torch.nn as nn\n",
    "import torch.nn.functional as F\n",
    "from torch.nn import BCEWithLogitsLoss\n",
    "from torchvision.transforms import CenterCrop\n",
    "import os\n",
    "from torch.utils.data import Dataset, DataLoader\n",
    "from torch.optim import Adam\n",
    "from sklearn.model_selection import train_test_split\n",
    "from torchvision import transforms\n",
    "import torchvision\n",
    "from tqdm import tqdm\n",
    "import matplotlib.pyplot as plt\n",
    "import time\n",
    "\n",
    "\n"
   ]
  },
  {
   "cell_type": "code",
   "execution_count": 3,
   "metadata": {},
   "outputs": [],
   "source": [
    "# read data from ./CrackDataset_DL_HY/SematicSeg_Dataset\n",
    "DATASET_PATH = os.path.join(os.getcwd(), 'concreteCrackSegmentationDataset')\n",
    "# define the path to the images and masks dataset\n",
    "IMAGE_DATASET_PATH = os.path.join(DATASET_PATH, 'rgb')\n",
    "MASK_DATASET_PATH = os.path.join(DATASET_PATH, 'BW')\n",
    "    \n",
    "# define the test split\n",
    "TEST_SPLIT = 0.15\n",
    "\n",
    "# determine the device to be used for training and evaluation\n",
    "DEVICE = \"cuda\" if torch.cuda.is_available() else \"cpu\"\n",
    "\n",
    "# determine if we will be pinning memory during data loading\n",
    "PIN_MEMORY = True if DEVICE == \"cuda\" else False\n",
    "\n",
    "# define the number of channels in the input, number of classes,\n",
    "# and number of levels in the U-Net model\n",
    "NUM_CHANNELS = 3\n",
    "NUM_CLASSES = 1\n",
    "NUM_LEVELS = 3\n",
    "\n",
    "# initialize learning rate, number of epochs to train for, and the\n",
    "# batch size\n",
    "INIT_LR = 0.001\n",
    "NUM_EPOCHS = 5\n",
    "BATCH_SIZE = 4\n",
    "# define the input image dimensions\n",
    "INPUT_IMAGE_WIDTH = 1280\n",
    "INPUT_IMAGE_HEIGHT = 960\n",
    "\n",
    "# define threshold to filter weak predictions\n",
    "THRESHOLD = 0.5\n",
    "\n",
    "# define the path to the base output directory\n",
    "BASE_OUTPUT = os.path.join(os.getcwd(), 'output')\n",
    "\n",
    "# define the path to the output serialized model, model training\n",
    "# plot, and testing image paths\n",
    "MODEL_PATH = os.path.join(BASE_OUTPUT, \"unet_tgs_salt.pth\")\n",
    "PLOT_PATH = os.path.sep.join([BASE_OUTPUT, \"plot.png\"])\n",
    "TEST_PATHS = os.path.sep.join([BASE_OUTPUT, \"test_paths.txt\"])"
   ]
  },
  {
   "cell_type": "code",
   "execution_count": 4,
   "metadata": {},
   "outputs": [],
   "source": [
    "import os.path\n",
    "import numpy as np\n",
    "import torch\n",
    "from PIL import Image\n",
    "from torch.utils.data import Dataset\n",
    "class SegmentationDataSet(Dataset):\n",
    "    def __init__(self,rootdir,labeldir,img_name_ls, transform=None):\n",
    "        self.data_dir=rootdir\n",
    "        self.label_dir=labeldir\n",
    "        self.img_name_ls = img_name_ls\n",
    "        self.data_len = len(img_name_ls)\n",
    "        self.transform = transform\n",
    "    \n",
    "    def __len__(self):\n",
    "        return self.data_len\n",
    "\n",
    "    def __getitem__(self, index):\n",
    "        image_path=os.path.join(self.data_dir,self.img_name_ls[index])\n",
    "        label_path = os.path.join(self.label_dir,self.img_name_ls[index])\n",
    "        img=Image.open(image_path)\n",
    "        img = np.array(img)\n",
    "        img_label=Image.open(label_path).convert('L')\n",
    "        img_label = np.array(img_label)\n",
    "        if self.transform:\n",
    "            img = self.transform(img)\n",
    "            img_label = self.transform(img_label)\n",
    "        return img, img_label"
   ]
  },
  {
   "cell_type": "code",
   "execution_count": 5,
   "metadata": {},
   "outputs": [],
   "source": [
    "# U-Net model\n",
    "class Block(nn.Module):\n",
    "    def __init__(self, inChannels, outChannels):\n",
    "        super().__init__()\n",
    "        # store the convolution and RELU layers\n",
    "        self.conv1 = nn.Conv2d(inChannels, outChannels, 3)\n",
    "        self.relu = nn.ReLU()\n",
    "        self.conv2 = nn.Conv2d(outChannels, outChannels, 3)\n",
    "    \n",
    "    def forward(self, x):\n",
    "        # apply the convolution and RELU layers\n",
    "        x = self.conv1(x)\n",
    "        x = self.relu(x)\n",
    "        x = self.conv2(x)\n",
    "        return x\n",
    "\n",
    "class Encoder(nn.Module):\n",
    "    def __init__(self, channels=(3, 16, 32, 64)):\n",
    "        super().__init__()\n",
    "        # store the encoder blocks and maxpooling layer\n",
    "        self.encBlocks = nn.ModuleList([Block(channels[i], channels[i + 1]) for i in range(len(channels) - 1)])\n",
    "        self.pool = nn.MaxPool2d(2)\n",
    "\n",
    "    def forward(self, x):\n",
    "        # initialize an empty list to store the intermediate outputs\n",
    "        blockOutputs = []\n",
    "        # loop through the encoder blocks\n",
    "        for block in self.encBlocks:\n",
    "            # pass the inputs through the current encoder block, store\n",
    "            # the outputs, and then apply maxpooling on the output\n",
    "            x = block(x)\n",
    "            blockOutputs.append(x)\n",
    "            x = self.pool(x)\n",
    "        # return the list containing the intermediate outputs\n",
    "        return blockOutputs\n",
    "\n",
    "class Decoder(nn.Module):\n",
    "    def __init__(self, channels=(64, 32, 16)):\n",
    "        super().__init__()\n",
    "        # initialize the number of channels, upsampler blocks, and\n",
    "        # decoder blocks\n",
    "        self.channels = channels\n",
    "        self.upconvs = nn.ModuleList([nn.ConvTranspose2d(channels[i], channels[i + 1], 2, 2) for i in range(len(channels) - 1)])\n",
    "        self.dec_blocks = nn.ModuleList([Block(channels[i], channels[i + 1]) for i in range(len(channels) - 1)])\n",
    "        \n",
    "    def forward(self, x, encFeatures):\n",
    "        # loop through the number of channels\n",
    "        for i in range(len(self.channels) - 1):\n",
    "            # pass the inputs through the upsampler blocks\n",
    "            x = self.upconvs[i](x)\n",
    "            # crop the current features from the encoder blocks,\n",
    "            # concatenate them with the current upsampled features,\n",
    "            # and pass the concatenated output through the current\n",
    "            # decoder block\n",
    "            encFeat = self.crop(encFeatures[i], x)\n",
    "            x = torch.cat([x, encFeat], dim=1)\n",
    "            x = self.dec_blocks[i](x)\n",
    "        # return the final decoder output\n",
    "        return x\n",
    "    def crop(self, encFeatures, x):\n",
    "        # grab the dimensions of the inputs, and crop the encoder\n",
    "        # features to match the dimensions\n",
    "        (_, _, H, W) = x.shape\n",
    "        encFeatures = CenterCrop([H, W])(encFeatures)\n",
    "        # return the cropped features\n",
    "        return encFeatures\n",
    "\n",
    "class UNet(nn.Module):\n",
    "    def __init__(self, encChannels=(3, 16, 32, 64),\n",
    "\t\t decChannels=(64, 32, 16),\n",
    "\t\t nbClasses=1, retainDim=True,\n",
    "\t\t outSize=(INPUT_IMAGE_HEIGHT,  INPUT_IMAGE_WIDTH)):\n",
    "        super().__init__()\n",
    "        # initialize the encoder and decoder\n",
    "        self.encoder = Encoder(encChannels)\n",
    "        self.decoder = Decoder(decChannels)\n",
    "        # initialize the regression head and store the class variables\n",
    "        self.head = nn.Conv2d(decChannels[-1], nbClasses, 1)\n",
    "        self.retainDim = retainDim\n",
    "        self.outSize = outSize\n",
    "\n",
    "    def forward(self, x):\n",
    "        # grab the features from the encoder\n",
    "        encFeatures = self.encoder(x)\n",
    "        # pass the encoder features through decoder making sure that\n",
    "        # their dimensions are suited for concatenation\n",
    "        decFeatures = self.decoder(encFeatures[::-1][0],\n",
    "            encFeatures[::-1][1:])\n",
    "        # pass the decoder features through the regression head to\n",
    "        # obtain the segmentation mask\n",
    "        map = self.head(decFeatures)\n",
    "        # check to see if we are retaining the original output\n",
    "        # dimensions and if so, then resize the output to match them\n",
    "        if self.retainDim:\n",
    "            map = F.interpolate(map, self.outSize)\n",
    "        # return the segmentation map\n",
    "        return map"
   ]
  },
  {
   "cell_type": "code",
   "execution_count": 6,
   "metadata": {},
   "outputs": [
    {
     "name": "stdout",
     "output_type": "stream",
     "text": [
      "[INFO] saving testing image paths...\n"
     ]
    }
   ],
   "source": [
    "# load the image and mask filepaths in a sorted manner\n",
    "imagePaths = sorted(list(os.listdir(IMAGE_DATASET_PATH)))\n",
    "maskPaths = sorted(list(os.listdir(MASK_DATASET_PATH)))\n",
    "\n",
    "# only use first 10 pictures\n",
    "imagePaths = imagePaths[:50]\n",
    "maskPaths = maskPaths[:50]\n",
    "\n",
    "for file_name in imagePaths:\n",
    "    os.rename(os.path.join(IMAGE_DATASET_PATH,file_name),os.path.join(IMAGE_DATASET_PATH,file_name.lower()))\n",
    "\n",
    "# partition the data into training and testing splits using 85% of\n",
    "# the data for training and the remaining 15% for testing\n",
    "split = train_test_split(imagePaths, maskPaths,\n",
    "\ttest_size=TEST_SPLIT, random_state=42)\n",
    "\n",
    "# unpack the training and testing image and mask paths\n",
    "(trainImages, testImages) = split[:2]\n",
    "(trainMasks, testMasks) = split[2:]\n",
    "# write the testing image paths to disk so that we can use then\n",
    "# when evaluating/testing our model\n",
    "print(\"[INFO] saving testing image paths...\")\n",
    "f = open(TEST_PATHS, \"w\")\n",
    "f.write(\"\\n\".join(testImages))\n",
    "f.close()"
   ]
  },
  {
   "cell_type": "code",
   "execution_count": 7,
   "metadata": {},
   "outputs": [
    {
     "name": "stdout",
     "output_type": "stream",
     "text": [
      "[INFO] found 42 examples in the training set...\n",
      "[INFO] found 8 examples in the test set...\n"
     ]
    }
   ],
   "source": [
    "# define transformations\n",
    "transform = transforms.Compose([transforms.ToPILImage(),\n",
    " \ttransforms.Resize((INPUT_IMAGE_HEIGHT,\n",
    "\t\tINPUT_IMAGE_WIDTH)),\n",
    "\ttransforms.ToTensor()])\n",
    "# create the train and test datasets\n",
    "trainDS = SegmentationDataSet(IMAGE_DATASET_PATH, MASK_DATASET_PATH,trainImages,transform=transform)\n",
    "testDS = SegmentationDataSet(IMAGE_DATASET_PATH, MASK_DATASET_PATH, testImages,transform=transform)\n",
    "print(f\"[INFO] found {len(trainDS)} examples in the training set...\")\n",
    "print(f\"[INFO] found {len(testDS)} examples in the test set...\")\n",
    "# create the training and test data loaders\n",
    "trainLoader = DataLoader(trainDS, shuffle=True,\n",
    "\tbatch_size=BATCH_SIZE, pin_memory=PIN_MEMORY)\n",
    "testLoader = DataLoader(testDS, shuffle=False,\n",
    "\tbatch_size=BATCH_SIZE, pin_memory=PIN_MEMORY)"
   ]
  },
  {
   "cell_type": "code",
   "execution_count": 8,
   "metadata": {},
   "outputs": [],
   "source": [
    "# initialize our UNet model\n",
    "unet = UNet().to(DEVICE)\n",
    "# initialize loss function and optimizer\n",
    "lossFunc = BCEWithLogitsLoss()\n",
    "opt = Adam(unet.parameters(), lr=INIT_LR)\n",
    "# calculate steps per epoch for training and test set\n",
    "trainSteps = len(trainDS) // BATCH_SIZE\n",
    "testSteps = len(testDS) // BATCH_SIZE\n",
    "# initialize a dictionary to store training history\n",
    "H = {\"train_loss\": [], \"test_loss\": []}"
   ]
  },
  {
   "cell_type": "code",
   "execution_count": 9,
   "metadata": {},
   "outputs": [],
   "source": [
    "#evalution metric with mIoU\n",
    "\n",
    "class SegmentationMetric(object):\n",
    "    def __init__(self, numClass):\n",
    "        self.numClass = numClass\n",
    "        self.confusionMatrix = np.zeros((self.numClass,)*2)\n",
    "\n",
    "\n",
    "    def meanIntersectionOverUnion(self):\n",
    "        # Intersection = TP Union = TP + FP + FN\n",
    "        # IoU = TP / (TP + FP + FN)\n",
    "        intersection = np.diag(self.confusionMatrix)\n",
    "        union = np.sum(self.confusionMatrix, axis=1) + np.sum(self.confusionMatrix, axis=0) - np.diag(self.confusionMatrix)\n",
    "        IoU = intersection / union\n",
    "        mIoU = np.nanmean(IoU)\n",
    "        return mIoU\n",
    "\n",
    "    def genConfusionMatrix(self, imgPredict, imgLabel):\n",
    "        # remove classes from unlabeled pixels in gt image and predict\n",
    "        imgPredict = torch.sigmoid(imgPredict)\n",
    "        imgPredict = torch.where(imgPredict>=0.5,1,0)\n",
    "        mask = (imgLabel >= 0) & (imgLabel < self.numClass)\n",
    "        label = self.numClass * imgLabel[mask] + imgPredict[mask]\n",
    "        count = np.bincount(label, minlength=self.numClass**2)\n",
    "        confusionMatrix = count.reshape(self.numClass, self.numClass)\n",
    "        return confusionMatrix\n",
    "\n",
    "    def addBatch(self, imgPredict, imgLabel):\n",
    "        assert imgPredict.shape == imgLabel.shape\n",
    "        self.confusionMatrix += self.genConfusionMatrix(imgPredict.cpu(), imgLabel.cpu())\n",
    "\n"
   ]
  },
  {
   "cell_type": "code",
   "execution_count": 11,
   "metadata": {},
   "outputs": [
    {
     "name": "stdout",
     "output_type": "stream",
     "text": [
      "[INFO] training the network...\n"
     ]
    },
    {
     "name": "stderr",
     "output_type": "stream",
     "text": [
      "11it [00:43,  3.99s/it]0:00<?, ?it/s]\n",
      " 20%|██        | 1/5 [00:51<03:24, 51.04s/it]"
     ]
    },
    {
     "name": "stdout",
     "output_type": "stream",
     "text": [
      "[INFO] EPOCH: 1/5\n",
      "Train loss: 0.063892, Test loss: 0.0603,mIOU:0.49\n"
     ]
    },
    {
     "name": "stderr",
     "output_type": "stream",
     "text": [
      "11it [00:27,  2.53s/it]\n",
      " 40%|████      | 2/5 [01:37<02:24, 48.20s/it]"
     ]
    },
    {
     "name": "stdout",
     "output_type": "stream",
     "text": [
      "[INFO] EPOCH: 2/5\n",
      "Train loss: 0.061331, Test loss: 0.0572,mIOU:0.49\n"
     ]
    },
    {
     "name": "stderr",
     "output_type": "stream",
     "text": [
      "11it [00:37,  3.45s/it]\n",
      " 60%|██████    | 3/5 [02:19<01:31, 45.60s/it]"
     ]
    },
    {
     "name": "stdout",
     "output_type": "stream",
     "text": [
      "[INFO] EPOCH: 3/5\n",
      "Train loss: 0.059479, Test loss: 0.0571,mIOU:0.49\n"
     ]
    },
    {
     "name": "stderr",
     "output_type": "stream",
     "text": [
      "11it [00:48,  4.44s/it]\n",
      " 80%|████████  | 4/5 [03:13<00:48, 48.69s/it]"
     ]
    },
    {
     "name": "stdout",
     "output_type": "stream",
     "text": [
      "[INFO] EPOCH: 4/5\n",
      "Train loss: 0.058945, Test loss: 0.0574,mIOU:0.49\n"
     ]
    },
    {
     "name": "stderr",
     "output_type": "stream",
     "text": [
      "11it [00:26,  2.40s/it]\n",
      "100%|██████████| 5/5 [03:44<00:00, 44.89s/it]"
     ]
    },
    {
     "name": "stdout",
     "output_type": "stream",
     "text": [
      "[INFO] EPOCH: 5/5\n",
      "Train loss: 0.057258, Test loss: 0.0563,mIOU:0.49\n",
      "[INFO] total time taken to train the model: 224.44s\n"
     ]
    },
    {
     "name": "stderr",
     "output_type": "stream",
     "text": [
      "\n"
     ]
    }
   ],
   "source": [
    "# loop over epochs\n",
    "print(\"[INFO] training the network...\")\n",
    "startTime = time.time()\n",
    "for e in tqdm(range(NUM_EPOCHS)):\n",
    "\t# set the model in training mode\n",
    "\tunet.train()\n",
    "\t# initialize the total training and validation loss\n",
    "\ttotalTrainLoss = 0\n",
    "\ttotalTestLoss = 0\n",
    "\tmIOU = 0\n",
    "\t# loop over the training set\n",
    "\tfor (i, (x, y)) in tqdm(enumerate(trainLoader)):\n",
    "\t\t# send the input to the device\n",
    "\t\t(x, y) = (x.to(DEVICE), y.to(DEVICE))\n",
    "\t\t# perform a forward pass and calculate the training loss\n",
    "\t\tpred = unet(x)\n",
    "\t\tloss = lossFunc(pred, y)\n",
    "\t\t# first, zero out any previously accumulated gradients, then\n",
    "\t\t# perform backpropagation, and then update model parameters\n",
    "\t\topt.zero_grad()\n",
    "\t\tloss.backward()\n",
    "\t\topt.step()\n",
    "\t\t# add the loss to the total training loss so far\n",
    "\t\ttotalTrainLoss += loss\n",
    "\t# switch off autograd\n",
    "\twith torch.no_grad():\n",
    "\t\t# set the model in evaluation mode\n",
    "\t\tunet.eval()\n",
    "\t\t# loop over the validation set\n",
    "\t\tfor (x, y) in testLoader:\n",
    "\t\t\t# send the input to the device\n",
    "\t\t\t(x, y) = (x.to(DEVICE), y.to(DEVICE))\n",
    "\t\t\t# make the predictions and calculate the validation loss\n",
    "\t\t\tpred = unet(x)\n",
    "\t\t\ttotalTestLoss += lossFunc(pred, y)\n",
    "\t\t\t#evalution metric\n",
    "\t\t\tmetric = SegmentationMetric(2)\n",
    "\t\t\tmetric.addBatch(pred, y)\n",
    "\t\t\t\n",
    "\t# calculate the average training and validation loss\n",
    "\tavgTrainLoss = totalTrainLoss / trainSteps\n",
    "\tavgTestLoss = totalTestLoss / testSteps\n",
    "\tavgmIOU = metric.meanIntersectionOverUnion()\n",
    "\t# update our training history\n",
    "\tH[\"train_loss\"].append(avgTrainLoss.cpu().detach().numpy())\n",
    "\tH[\"test_loss\"].append(avgTestLoss.cpu().detach().numpy())\n",
    "\t# print the model training and validation information\n",
    "\tprint(\"[INFO] EPOCH: {}/{}\".format(e + 1, NUM_EPOCHS))\n",
    "\tprint(\"Train loss: {:.6f}, Test loss: {:.4f},mIOU:{:.2f}\".format(\n",
    "\t\tavgTrainLoss, avgTestLoss, avgmIOU))\n",
    "# display the total time needed to perform the training\n",
    "endTime = time.time()\n",
    "print(\"[INFO] total time taken to train the model: {:.2f}s\".format(\n",
    "\tendTime - startTime))"
   ]
  },
  {
   "cell_type": "code",
   "execution_count": 18,
   "metadata": {},
   "outputs": [
    {
     "data": {
      "image/png": "[encoded data removed]",
      "text/plain": [
       "<Figure size 640x480 with 1 Axes>"
      ]
     },
     "metadata": {},
     "output_type": "display_data"
    }
   ],
   "source": [
    "# plot the training loss\n",
    "plt.style.use(\"ggplot\")\n",
    "plt.figure()\n",
    "plt.plot(H[\"train_loss\"], label=\"train_loss\")\n",
    "plt.plot(H[\"test_loss\"], label=\"test_loss\")\n",
    "plt.title(\"Training Loss on Dataset\")\n",
    "plt.xlabel(\"Epoch #\")\n",
    "plt.ylabel(\"Loss\")\n",
    "plt.legend(loc=\"lower left\")\n",
    "plt.savefig(PLOT_PATH)\n",
    "# serialize the model to disk\n",
    "torch.save(unet, MODEL_PATH)"
   ]
  },
  {
   "cell_type": "code",
   "execution_count": 19,
   "metadata": {},
   "outputs": [],
   "source": [
    "# USAGE\n",
    "# python predict.py\n",
    "# import the necessary packages\n",
    "import matplotlib.pyplot as plt\n",
    "import numpy as np\n",
    "import torch\n",
    "import cv2\n",
    "import os\n",
    "def prepare_plot(origImage, origMask, predMask):\n",
    "\t# initialize our figure\n",
    "\tfigure, ax = plt.subplots(nrows=1, ncols=3, figsize=(10, 10))\n",
    "\t# plot the original image, its mask, and the predicted mask\n",
    "\tax[0].imshow(origImage)\n",
    "\tax[1].imshow(origMask)\n",
    "\tax[2].imshow(predMask)\n",
    "\t# set the titles of the subplots\n",
    "\tax[0].set_title(\"Image\")\n",
    "\tax[1].set_title(\"Original Mask\")\n",
    "\tax[2].set_title(\"Predicted Mask\")\n",
    "\t# set the layout of the figure and display it\n",
    "\tfigure.tight_layout()\n",
    "\tfigure.show()"
   ]
  },
  {
   "cell_type": "code",
   "execution_count": 26,
   "metadata": {},
   "outputs": [
    {
     "name": "stdout",
     "output_type": "stream",
     "text": [
      "[INFO] loading up test image paths...\n",
      "['043.jpg']\n",
      "[INFO] load up model...\n"
     ]
    },
    {
     "name": "stderr",
     "output_type": "stream",
     "text": [
      "C:\\Users\\zheng\\AppData\\Local\\Temp\\ipykernel_9512\\570198200.py:22: UserWarning: Matplotlib is currently using module://matplotlib_inline.backend_inline, which is a non-GUI backend, so cannot show the figure.\n",
      "  figure.show()\n"
     ]
    },
    {
     "data": {
      "image/png": "[encoded data removed]",
      "text/plain": [
       "<Figure size 1000x1000 with 3 Axes>"
      ]
     },
     "metadata": {},
     "output_type": "display_data"
    }
   ],
   "source": [
    "def make_predictions(model, imagePath):\n",
    "\t# set model to evaluation mode\n",
    "\tmodel.eval()\n",
    "\t# turn off gradient tracking\n",
    "\twith torch.no_grad():\n",
    "\t\t# load the image from disk, swap its color channels, cast it\n",
    "\t\t# to float data type, and scale its pixel values\n",
    "\t\timage = cv2.imread(imagePath)\n",
    "\t\timage = cv2.cvtColor(image, cv2.COLOR_BGR2RGB)\n",
    "\t\timage = image.astype(\"float32\") / 255.0\n",
    "\t\torig = image.copy()\n",
    "\t\t# find the filename and generate the path to ground truth\n",
    "\t\t# mask\n",
    "\t\tfilename = imagePath.split(os.path.sep)[-1]\n",
    "\t\tgroundTruthPath = os.path.join(MASK_DATASET_PATH,\n",
    "\t\t\tfilename)\n",
    "\t\t# load the ground-truth segmentation mask in grayscale mode\n",
    "\t\t# and resize it\n",
    "\t\tgtMask = cv2.imread(groundTruthPath, 0)\n",
    "\t\tgtMask = cv2.resize(gtMask, (INPUT_IMAGE_HEIGHT,\n",
    "\t\t\tINPUT_IMAGE_HEIGHT))\n",
    "\n",
    "\t\t# make the channel axis to be the leading one, add a batch\n",
    "\t\t# dimension, create a PyTorch tensor, and flash it to the\n",
    "\t\t# current device\n",
    "\t\timage = np.transpose(image, (2, 0, 1))\n",
    "\t\timage = np.expand_dims(image, 0)\n",
    "\t\timage = torch.from_numpy(image).to(DEVICE)\n",
    "\t\t# make the prediction, pass the results through the sigmoid\n",
    "\t\t# function, and convert the result to a NumPy array\n",
    "\t\tpredMask = model(image).squeeze()\n",
    "\t\tpredMask = torch.sigmoid(predMask)\n",
    "\t\tpredMask = predMask.cpu().numpy()\n",
    "\t\t# filter out the weak predictions and convert them to integers\n",
    "\t\tpredMask = (predMask > THRESHOLD) * 255\n",
    "\t\tpredMask = predMask.astype(np.uint8)\n",
    "\t\t# prepare a plot for visualization\n",
    "\t\tprepare_plot(orig, gtMask, predMask)\n",
    "\n",
    "# load the image paths in our testing file and randomly select 10\n",
    "# image paths\n",
    "print(\"[INFO] loading up test image paths...\")\n",
    "imagePaths = open(TEST_PATHS).read().strip().split(\"\\n\")\n",
    "imagePaths = np.random.choice(imagePaths, size=1)\n",
    "print(imagePaths)\n",
    "# load our model from disk and flash it to the current device\n",
    "print(\"[INFO] load up model...\")\n",
    "unet = torch.load(MODEL_PATH).to(DEVICE)\n",
    "# iterate over the randomly selected test image paths\n",
    "for path in imagePaths:\n",
    "\t# make predictions and visualize the results\n",
    "\tpath1 = os.path.join(MASK_DATASET_PATH, path)\n",
    "\tmake_predictions(unet, path1)"
   ]
  },
  {
   "cell_type": "code",
   "execution_count": null,
   "metadata": {},
   "outputs": [],
   "source": []
  }
 ],
 "metadata": {
  "kernelspec": {
   "display_name": "Python 3.9.13 ('base')",
   "language": "python",
   "name": "python3"
  },
  "language_info": {
   "codemirror_mode": {
    "name": "ipython",
    "version": 3
   },
   "file_extension": ".py",
   "mimetype": "text/x-python",
   "name": "python",
   "nbconvert_exporter": "python",
   "pygments_lexer": "ipython3",
   "version": "3.9.13"
  },
  "orig_nbformat": 4,
  "vscode": {
   "interpreter": {
    "hash": "ad2bdc8ecc057115af97d19610ffacc2b4e99fae6737bb82f5d7fb13d2f2c186"
   }
  }
 },
 "nbformat": 4,
 "nbformat_minor": 2
}
